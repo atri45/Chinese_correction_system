{
 "cells": [
  {
   "cell_type": "code",
   "execution_count": 1,
   "metadata": {},
   "outputs": [],
   "source": [
    "import torch\n",
    "from tqdm import tqdm\n",
    "from torch import nn\n",
    "from transformers import BertForTokenClassification, BertTokenizer\n",
    "from torch.utils.data import DataLoader\n",
    "from CSCDatasets import DetectionDataset"
   ]
  },
  {
   "cell_type": "code",
   "execution_count": 2,
   "metadata": {
    "scrolled": true
   },
   "outputs": [
    {
     "name": "stderr",
     "output_type": "stream",
     "text": [
      "Some weights of BertForTokenClassification were not initialized from the model checkpoint at ../bert-base-chinese and are newly initialized: ['classifier.bias', 'classifier.weight']\n",
      "You should probably TRAIN this model on a down-stream task to be able to use it for predictions and inference.\n"
     ]
    }
   ],
   "source": [
    "device = torch.device(\"cuda:0\" if torch.cuda.is_available() else \"cpu\")\n",
    "\n",
    "train_dataset = DetectionDataset(\"../dataset/detect_train.tsv\")\n",
    "train_dataloader = DataLoader(train_dataset, batch_size=32, shuffle=True, drop_last=True)\n",
    "\n",
    "tokenizer = BertTokenizer.from_pretrained(\"../pretrained_models/bert-base-chinese\")\n",
    "model = BertForTokenClassification.from_pretrained(\"../pretrained_models/bert-base-chinese\", use_safetensors=True).to(device)"
   ]
  },
  {
   "cell_type": "code",
   "execution_count": 3,
   "metadata": {},
   "outputs": [
    {
     "name": "stderr",
     "output_type": "stream",
     "text": [
      "100%|██████████| 7869/7869 [44:37<00:00,  2.94it/s, loss=0.004]   \n"
     ]
    }
   ],
   "source": [
    "lr = 1e-5\n",
    "loss_fn = nn.CrossEntropyLoss().to(device)\n",
    "optimizer = torch.optim.Adam(model.parameters(), lr=lr)\n",
    "\n",
    "total = len(train_dataloader)\n",
    "with tqdm(total=total) as progress:\n",
    "    for text, label in train_dataloader:\n",
    "        inputs =  tokenizer(text, return_tensors='pt', max_length=256, truncation=True, padding='max_length').to(device)\n",
    "        label = label.to(device)\n",
    "        outputs = model(**inputs).logits\n",
    "        loss = loss_fn(outputs.permute(0, 2, 1), label)\n",
    "\n",
    "        optimizer.zero_grad()\n",
    "        loss.backward()\n",
    "        optimizer.step()\n",
    "\n",
    "        progress.set_postfix(loss=loss.item())\n",
    "        progress.update(1)"
   ]
  },
  {
   "cell_type": "code",
   "execution_count": 22,
   "metadata": {},
   "outputs": [
    {
     "data": {
      "text/plain": [
       "<All keys matched successfully>"
      ]
     },
     "execution_count": 22,
     "metadata": {},
     "output_type": "execute_result"
    }
   ],
   "source": [
    "state_dict = torch.load(\"../bert_base_cn_detect_0.ckpt\")\n",
    "model.load_state_dict(state_dict)"
   ]
  },
  {
   "cell_type": "code",
   "execution_count": 89,
   "metadata": {},
   "outputs": [],
   "source": [
    "text = \"\"\n",
    "inputs = tokenizer(text, return_tensors='pt').to(device)\n",
    "output = model(**inputs).logits\n",
    "error_prob = torch.nn.functional.softmax(output, dim=-1)[0, :, 1].tolist()[1:-1]\n",
    "for c, l in zip(text, error_prob):\n",
    "    if l > 0.1:\n",
    "        print(f\"error: {c}\")"
   ]
  },
  {
   "cell_type": "code",
   "execution_count": 46,
   "metadata": {},
   "outputs": [],
   "source": [
    "torch.save(model.state_dict(), \"../check_point/bert_base_cn_detect_1.ckpt\")"
   ]
  },
  {
   "cell_type": "code",
   "execution_count": 60,
   "metadata": {},
   "outputs": [
    {
     "data": {
      "text/plain": [
       "[8.605405309936032e-05,\n",
       " 0.0016445911023765802,\n",
       " 0.3076367676258087,\n",
       " 0.9885391592979431,\n",
       " 0.0012921460438519716,\n",
       " 0.0002344208478461951,\n",
       " 8.365231769857928e-05,\n",
       " 0.00010163187107536942,\n",
       " 0.0005347515107132494,\n",
       " 0.0008677940932102501,\n",
       " 0.00024000425764825195,\n",
       " 7.675557571928948e-05,\n",
       " 7.319291034946218e-05,\n",
       " 7.76168963056989e-05]"
      ]
     },
     "execution_count": 60,
     "metadata": {},
     "output_type": "execute_result"
    }
   ],
   "source": [
    "torch.nn.functional.softmax(output, dim=-1)[0, :, 1].tolist()[1:-1]"
   ]
  },
  {
   "cell_type": "code",
   "execution_count": null,
   "metadata": {},
   "outputs": [],
   "source": []
  }
 ],
 "metadata": {
  "kernelspec": {
   "display_name": "Python 3 (ipykernel)",
   "language": "python",
   "name": "python3"
  },
  "language_info": {
   "codemirror_mode": {
    "name": "ipython",
    "version": 3
   },
   "file_extension": ".py",
   "mimetype": "text/x-python",
   "name": "python",
   "nbconvert_exporter": "python",
   "pygments_lexer": "ipython3",
   "version": "3.8.10"
  }
 },
 "nbformat": 4,
 "nbformat_minor": 4
}
